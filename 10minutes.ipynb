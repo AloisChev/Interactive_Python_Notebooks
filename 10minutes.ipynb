{
 "cells": [
  {
   "cell_type": "markdown",
   "metadata": {
    "collapsed": true
   },
   "source": [
    "# Obtenir de l'aide :"
   ]
  },
  {
   "cell_type": "code",
   "execution_count": 18,
   "metadata": {
    "collapsed": true,
    "nbpresent": {
     "id": "fcd3c38d-ea6c-4783-ae4d-3ce95fbdf6c1"
    }
   },
   "outputs": [
    {
     "name": "stdout",
     "output_type": "stream",
     "text": [
      "Help on int object:\n",
      "\n",
      "class int(object)\n",
      " |  int(x=0) -> integer\n",
      " |  int(x, base=10) -> integer\n",
      " |  \n",
      " |  Convert a number or string to an integer, or return 0 if no arguments\n",
      " |  are given.  If x is a number, return x.__int__().  For floating point\n",
      " |  numbers, this truncates towards zero.\n",
      " |  \n",
      " |  If x is not a number or if base is given, then x must be a string,\n",
      " |  bytes, or bytearray instance representing an integer literal in the\n",
      " |  given base.  The literal can be preceded by '+' or '-' and be surrounded\n",
      " |  by whitespace.  The base defaults to 10.  Valid bases are 0 and 2-36.\n",
      " |  Base 0 means to interpret the base from the string as an integer literal.\n",
      " |  >>> int('0b100', base=0)\n",
      " |  4\n",
      " |  \n",
      " |  Methods defined here:\n",
      " |  \n",
      " |  __abs__(self, /)\n",
      " |      abs(self)\n",
      " |  \n",
      " |  __add__(self, value, /)\n",
      " |      Return self+value.\n",
      " |  \n",
      " |  __and__(self, value, /)\n",
      " |      Return self&value.\n",
      " |  \n",
      " |  __bool__(self, /)\n",
      " |      self != 0\n",
      " |  \n",
      " |  __ceil__(...)\n",
      " |      Ceiling of an Integral returns itself.\n",
      " |  \n",
      " |  __divmod__(self, value, /)\n",
      " |      Return divmod(self, value).\n",
      " |  \n",
      " |  __eq__(self, value, /)\n",
      " |      Return self==value.\n",
      " |  \n",
      " |  __float__(self, /)\n",
      " |      float(self)\n",
      " |  \n",
      " |  __floor__(...)\n",
      " |      Flooring an Integral returns itself.\n",
      " |  \n",
      " |  __floordiv__(self, value, /)\n",
      " |      Return self//value.\n",
      " |  \n",
      " |  __format__(...)\n",
      " |      default object formatter\n",
      " |  \n",
      " |  __ge__(self, value, /)\n",
      " |      Return self>=value.\n",
      " |  \n",
      " |  __getattribute__(self, name, /)\n",
      " |      Return getattr(self, name).\n",
      " |  \n",
      " |  __getnewargs__(...)\n",
      " |  \n",
      " |  __gt__(self, value, /)\n",
      " |      Return self>value.\n",
      " |  \n",
      " |  __hash__(self, /)\n",
      " |      Return hash(self).\n",
      " |  \n",
      " |  __index__(self, /)\n",
      " |      Return self converted to an integer, if self is suitable for use as an index into a list.\n",
      " |  \n",
      " |  __int__(self, /)\n",
      " |      int(self)\n",
      " |  \n",
      " |  __invert__(self, /)\n",
      " |      ~self\n",
      " |  \n",
      " |  __le__(self, value, /)\n",
      " |      Return self<=value.\n",
      " |  \n",
      " |  __lshift__(self, value, /)\n",
      " |      Return self<<value.\n",
      " |  \n",
      " |  __lt__(self, value, /)\n",
      " |      Return self<value.\n",
      " |  \n",
      " |  __mod__(self, value, /)\n",
      " |      Return self%value.\n",
      " |  \n",
      " |  __mul__(self, value, /)\n",
      " |      Return self*value.\n",
      " |  \n",
      " |  __ne__(self, value, /)\n",
      " |      Return self!=value.\n",
      " |  \n",
      " |  __neg__(self, /)\n",
      " |      -self\n",
      " |  \n",
      " |  __new__(*args, **kwargs) from builtins.type\n",
      " |      Create and return a new object.  See help(type) for accurate signature.\n",
      " |  \n",
      " |  __or__(self, value, /)\n",
      " |      Return self|value.\n",
      " |  \n",
      " |  __pos__(self, /)\n",
      " |      +self\n",
      " |  \n",
      " |  __pow__(self, value, mod=None, /)\n",
      " |      Return pow(self, value, mod).\n",
      " |  \n",
      " |  __radd__(self, value, /)\n",
      " |      Return value+self.\n",
      " |  \n",
      " |  __rand__(self, value, /)\n",
      " |      Return value&self.\n",
      " |  \n",
      " |  __rdivmod__(self, value, /)\n",
      " |      Return divmod(value, self).\n",
      " |  \n",
      " |  __repr__(self, /)\n",
      " |      Return repr(self).\n",
      " |  \n",
      " |  __rfloordiv__(self, value, /)\n",
      " |      Return value//self.\n",
      " |  \n",
      " |  __rlshift__(self, value, /)\n",
      " |      Return value<<self.\n",
      " |  \n",
      " |  __rmod__(self, value, /)\n",
      " |      Return value%self.\n",
      " |  \n",
      " |  __rmul__(self, value, /)\n",
      " |      Return value*self.\n",
      " |  \n",
      " |  __ror__(self, value, /)\n",
      " |      Return value|self.\n",
      " |  \n",
      " |  __round__(...)\n",
      " |      Rounding an Integral returns itself.\n",
      " |      Rounding with an ndigits argument also returns an integer.\n",
      " |  \n",
      " |  __rpow__(self, value, mod=None, /)\n",
      " |      Return pow(value, self, mod).\n",
      " |  \n",
      " |  __rrshift__(self, value, /)\n",
      " |      Return value>>self.\n",
      " |  \n",
      " |  __rshift__(self, value, /)\n",
      " |      Return self>>value.\n",
      " |  \n",
      " |  __rsub__(self, value, /)\n",
      " |      Return value-self.\n",
      " |  \n",
      " |  __rtruediv__(self, value, /)\n",
      " |      Return value/self.\n",
      " |  \n",
      " |  __rxor__(self, value, /)\n",
      " |      Return value^self.\n",
      " |  \n",
      " |  __sizeof__(...)\n",
      " |      Returns size in memory, in bytes\n",
      " |  \n",
      " |  __str__(self, /)\n",
      " |      Return str(self).\n",
      " |  \n",
      " |  __sub__(self, value, /)\n",
      " |      Return self-value.\n",
      " |  \n",
      " |  __truediv__(self, value, /)\n",
      " |      Return self/value.\n",
      " |  \n",
      " |  __trunc__(...)\n",
      " |      Truncating an Integral returns itself.\n",
      " |  \n",
      " |  __xor__(self, value, /)\n",
      " |      Return self^value.\n",
      " |  \n",
      " |  bit_length(...)\n",
      " |      int.bit_length() -> int\n",
      " |      \n",
      " |      Number of bits necessary to represent self in binary.\n",
      " |      >>> bin(37)\n",
      " |      '0b100101'\n",
      " |      >>> (37).bit_length()\n",
      " |      6\n",
      " |  \n",
      " |  conjugate(...)\n",
      " |      Returns self, the complex conjugate of any int.\n",
      " |  \n",
      " |  from_bytes(...) from builtins.type\n",
      " |      int.from_bytes(bytes, byteorder, *, signed=False) -> int\n",
      " |      \n",
      " |      Return the integer represented by the given array of bytes.\n",
      " |      \n",
      " |      The bytes argument must be a bytes-like object (e.g. bytes or bytearray).\n",
      " |      \n",
      " |      The byteorder argument determines the byte order used to represent the\n",
      " |      integer.  If byteorder is 'big', the most significant byte is at the\n",
      " |      beginning of the byte array.  If byteorder is 'little', the most\n",
      " |      significant byte is at the end of the byte array.  To request the native\n",
      " |      byte order of the host system, use `sys.byteorder' as the byte order value.\n",
      " |      \n",
      " |      The signed keyword-only argument indicates whether two's complement is\n",
      " |      used to represent the integer.\n",
      " |  \n",
      " |  to_bytes(...)\n",
      " |      int.to_bytes(length, byteorder, *, signed=False) -> bytes\n",
      " |      \n",
      " |      Return an array of bytes representing an integer.\n",
      " |      \n",
      " |      The integer is represented using length bytes.  An OverflowError is\n",
      " |      raised if the integer is not representable with the given number of\n",
      " |      bytes.\n",
      " |      \n",
      " |      The byteorder argument determines the byte order used to represent the\n",
      " |      integer.  If byteorder is 'big', the most significant byte is at the\n",
      " |      beginning of the byte array.  If byteorder is 'little', the most\n",
      " |      significant byte is at the end of the byte array.  To request the native\n",
      " |      byte order of the host system, use `sys.byteorder' as the byte order value.\n",
      " |      \n",
      " |      The signed keyword-only argument determines whether two's complement is\n",
      " |      used to represent the integer.  If signed is False and a negative integer\n",
      " |      is given, an OverflowError is raised.\n",
      " |  \n",
      " |  ----------------------------------------------------------------------\n",
      " |  Data descriptors defined here:\n",
      " |  \n",
      " |  denominator\n",
      " |      the denominator of a rational number in lowest terms\n",
      " |  \n",
      " |  imag\n",
      " |      the imaginary part of a complex number\n",
      " |  \n",
      " |  numerator\n",
      " |      the numerator of a rational number in lowest terms\n",
      " |  \n",
      " |  real\n",
      " |      the real part of a complex number\n",
      "\n"
     ]
    }
   ],
   "source": [
    ">>> help(5)"
   ]
  },
  {
   "cell_type": "code",
   "execution_count": 10,
   "metadata": {
    "collapsed": true,
    "nbpresent": {
     "id": "c24592cc-6263-45eb-8f90-e983e9702db1"
    }
   },
   "outputs": [
    {
     "data": {
      "text/plain": [
       "['__abs__',\n",
       " '__add__',\n",
       " '__and__',\n",
       " '__bool__',\n",
       " '__ceil__',\n",
       " '__class__',\n",
       " '__delattr__',\n",
       " '__dir__',\n",
       " '__divmod__',\n",
       " '__doc__',\n",
       " '__eq__',\n",
       " '__float__',\n",
       " '__floor__',\n",
       " '__floordiv__',\n",
       " '__format__',\n",
       " '__ge__',\n",
       " '__getattribute__',\n",
       " '__getnewargs__',\n",
       " '__gt__',\n",
       " '__hash__',\n",
       " '__index__',\n",
       " '__init__',\n",
       " '__int__',\n",
       " '__invert__',\n",
       " '__le__',\n",
       " '__lshift__',\n",
       " '__lt__',\n",
       " '__mod__',\n",
       " '__mul__',\n",
       " '__ne__',\n",
       " '__neg__',\n",
       " '__new__',\n",
       " '__or__',\n",
       " '__pos__',\n",
       " '__pow__',\n",
       " '__radd__',\n",
       " '__rand__',\n",
       " '__rdivmod__',\n",
       " '__reduce__',\n",
       " '__reduce_ex__',\n",
       " '__repr__',\n",
       " '__rfloordiv__',\n",
       " '__rlshift__',\n",
       " '__rmod__',\n",
       " '__rmul__',\n",
       " '__ror__',\n",
       " '__round__',\n",
       " '__rpow__',\n",
       " '__rrshift__',\n",
       " '__rshift__',\n",
       " '__rsub__',\n",
       " '__rtruediv__',\n",
       " '__rxor__',\n",
       " '__setattr__',\n",
       " '__sizeof__',\n",
       " '__str__',\n",
       " '__sub__',\n",
       " '__subclasshook__',\n",
       " '__truediv__',\n",
       " '__trunc__',\n",
       " '__xor__',\n",
       " 'bit_length',\n",
       " 'conjugate',\n",
       " 'denominator',\n",
       " 'from_bytes',\n",
       " 'imag',\n",
       " 'numerator',\n",
       " 'real',\n",
       " 'to_bytes']"
      ]
     },
     "execution_count": 10,
     "metadata": {},
     "output_type": "execute_result"
    }
   ],
   "source": [
    ">>> dir(5)"
   ]
  },
  {
   "cell_type": "code",
   "execution_count": 11,
   "metadata": {
    "collapsed": true,
    "nbpresent": {
     "id": "c2b1c0cf-2e25-4fab-98aa-1436abdf2e8d"
    }
   },
   "outputs": [
    {
     "data": {
      "text/plain": [
       "'Return the absolute value of the argument.'"
      ]
     },
     "execution_count": 11,
     "metadata": {},
     "output_type": "execute_result"
    }
   ],
   "source": [
    ">>> abs.__doc__"
   ]
  },
  {
   "cell_type": "markdown",
   "metadata": {
    "nbpresent": {
     "id": "290ad44c-d05e-465c-86bc-e9de539847f0"
    }
   },
   "source": [
    "# Syntaxe :"
   ]
  },
  {
   "cell_type": "markdown",
   "metadata": {
    "nbpresent": {
     "id": "3ada93cd-d8c8-48b0-8c70-0784b909ab71"
    }
   },
   "source": [
    "Les points importants :\n",
    "    - Python n'a pas de caractères de fin de déclaration obligatoire et les blocs sont spécifiés par indentation\n",
    "    - Les commentaires commencent par le dièse (#) signe et sont une seule ligne\n",
    "    - Les valeurs sont affectées avec le signe égal ( \"=\")\n",
    "    - Le test de l' égalité se fait en utilisant deux signes égal ( \"==\")"
   ]
  },
  {
   "cell_type": "code",
   "execution_count": 26,
   "metadata": {
    "collapsed": true,
    "nbpresent": {
     "id": "03f33a77-c885-4bfb-9abd-aefc9f5e5a05"
    }
   },
   "outputs": [
    {
     "data": {
      "text/plain": [
       "4"
      ]
     },
     "execution_count": 26,
     "metadata": {},
     "output_type": "execute_result"
    }
   ],
   "source": [
    ">>> myvar = 3 # myvar = 3\n",
    ">>> myvar += 2 # myvar est incrémenté de 2\n",
    ">>> myvar # myvar = 5\n",
    ">>> myvar -= 1 # myvar est décrémenté de 1\n",
    ">>> myvar # myvar = 4"
   ]
  },
  {
   "cell_type": "code",
   "execution_count": 82,
   "metadata": {
    "collapsed": true,
    "nbpresent": {
     "id": "2362609e-5577-443a-8673-2b40cd595868"
    }
   },
   "outputs": [
    {
     "data": {
      "text/plain": [
       "'Ceci est un commentaire multiligne.\\nLes lignes suivantes concatènent les deux chaînes.'"
      ]
     },
     "execution_count": 82,
     "metadata": {},
     "output_type": "execute_result"
    }
   ],
   "source": [
    "\"\"\"Ceci est un commentaire multiligne.\n",
    "Les lignes suivantes concatènent les deux chaînes.\"\"\""
   ]
  },
  {
   "cell_type": "code",
   "execution_count": 40,
   "metadata": {
    "collapsed": false,
    "nbpresent": {
     "id": "3cf9ea35-2183-4d7d-be72-fdb613270dca"
    }
   },
   "outputs": [
    {
     "name": "stdout",
     "output_type": "stream",
     "text": [
      "Hello world.\n"
     ]
    }
   ],
   "source": [
    ">>> mystring = \"Hello\" # mystring : Hello\n",
    ">>> mystring += \" world.\" # \"world.\" est ajouté sur la chaine mystring\n",
    ">>> print (mystring)"
   ]
  },
  {
   "cell_type": "code",
   "execution_count": 47,
   "metadata": {
    "collapsed": false,
    "nbpresent": {
     "id": "caefad36-8127-405b-ac20-f74e741a29ac"
    }
   },
   "outputs": [],
   "source": [
    "# Ceci permute les variables dans une ligne (!).\n",
    "# Il ne viole pas le typage fort car les valeurs ne sont pas\n",
    "# affectés, mais les nouveaux objets sont liés \n",
    "# aux anciens noms.\n",
    "myvar, mystring = mystring, myvar"
   ]
  },
  {
   "cell_type": "markdown",
   "metadata": {
    "nbpresent": {
     "id": "6b2dab7b-3180-4abe-81d6-4fa07a1be735"
    }
   },
   "source": [
    "# Types de données : "
   ]
  },
  {
   "cell_type": "markdown",
   "metadata": {},
   "source": [
    "Les structures disponibles en python de données sont des listes, des tuples et les dictionnaires :\n",
    "    - Les listes sont comme des tableaux unidimensionnels (mais vous pouvez également avoir des listes d'autres listes)\n",
    "    - les dictionnaires sont des tableaux associatifs (tables de hachage aka) \n",
    "    - les tuples sont des tableaux unidimensionnels immuables (les \"tableaux\" Python peuvent être de tout type, donc vous pouvez Mix, par exemple, entiers, chaînes, etc dans les listes / dictionnaires / tuples)\n",
    "\n",
    "L'index du premier élément dans tous les types de tableau est 0. Les nombres négatifs comptent de la fin vers le début, -1 est le dernier élément. Les variables peuvent pointer vers des fonctions."
   ]
  },
  {
   "cell_type": "code",
   "execution_count": 86,
   "metadata": {
    "collapsed": false
   },
   "outputs": [
    {
     "name": "stdout",
     "output_type": "stream",
     "text": [
      "3\n"
     ]
    }
   ],
   "source": [
    ">>> sample = [1, [\"autre\", \"liste\"], (\"a\", \"tuple\")]\n",
    ">>> mylist = [\"Liste article 1\", 2, 3.14]\n",
    ">>> mylist[0] = \"Liste article 1 encore\" # Nous changeons l'élément.\n",
    ">>> mylist[-1] = 3.21 # Ici, on se réfère au dernier élément\n",
    ">>> mydict = {\"Clé 1\": \"Valeur 1\", 2: 3, \"pi\": 3.14}\n",
    ">>> mydict[\"pi\"] = 3.15 # Ceci est la façon pour modifier les valeurs du dictionnaire.\n",
    ">>> mytuple = (1, 2, 3)\n",
    ">>> myfunction = len\n",
    ">>> print (myfunction(mylist))"
   ]
  },
  {
   "cell_type": "markdown",
   "metadata": {},
   "source": [
    "Vous pouvez accéder à l' aide d' un tableau avec \":\". \n",
    "Laisser l'index de départ vide suppose le premier élément, laissant l'index final supposer le dernier élément. Les indices négatifs comptent à partir du dernier élément vers l'arrière (donc -1 est le dernier élément) comme suit:"
   ]
  },
  {
   "cell_type": "code",
   "execution_count": 87,
   "metadata": {
    "collapsed": false
   },
   "outputs": [
    {
     "name": "stdout",
     "output_type": "stream",
     "text": [
      "['Liste article 1', 2, 3.14, 5, 6]\n"
     ]
    }
   ],
   "source": [
    ">>> mylist = [\"Liste article 1\", 2, 3.14,5,6]\n",
    ">>> print (mylist[:])"
   ]
  },
  {
   "cell_type": "code",
   "execution_count": 95,
   "metadata": {
    "collapsed": false
   },
   "outputs": [
    {
     "name": "stdout",
     "output_type": "stream",
     "text": [
      "['Liste article 1', 2]\n"
     ]
    }
   ],
   "source": [
    ">>> print (mylist[0:2]) # [0:2], va de la valeur [0] inclus à la valeur [2] non inclus"
   ]
  },
  {
   "cell_type": "code",
   "execution_count": 5,
   "metadata": {
    "collapsed": false
   },
   "outputs": [
    {
     "ename": "NameError",
     "evalue": "name 'mylist' is not defined",
     "output_type": "error",
     "traceback": [
      "\u001b[0;31m---------------------------------------------------------------------------\u001b[0m",
      "\u001b[0;31mNameError\u001b[0m                                 Traceback (most recent call last)",
      "\u001b[0;32m<ipython-input-5-c4497ceaf90e>\u001b[0m in \u001b[0;36m<module>\u001b[0;34m()\u001b[0m\n\u001b[0;32m----> 1\u001b[0;31m \u001b[0mprint\u001b[0m \u001b[1;33m(\u001b[0m\u001b[0mmylist\u001b[0m\u001b[1;33m[\u001b[0m\u001b[1;33m-\u001b[0m\u001b[1;36m3\u001b[0m\u001b[1;33m:\u001b[0m\u001b[1;33m-\u001b[0m\u001b[1;36m1\u001b[0m\u001b[1;33m]\u001b[0m\u001b[1;33m)\u001b[0m\u001b[1;31m# [-3:-1], va de la troisième valeur en partant de la fin inclus à la dernière valeur non inclus\u001b[0m\u001b[1;33m\u001b[0m\u001b[0m\n\u001b[0m",
      "\u001b[0;31mNameError\u001b[0m: name 'mylist' is not defined"
     ]
    }
   ],
   "source": [
    ">>> print (mylist[-3:-1])# [-3:-1], va de la troisième valeur en partant de la fin inclus à la dernière valeur non inclus"
   ]
  },
  {
   "cell_type": "code",
   "execution_count": 98,
   "metadata": {
    "collapsed": false
   },
   "outputs": [
    {
     "name": "stdout",
     "output_type": "stream",
     "text": [
      "[2, 3.14, 5, 6]\n"
     ]
    }
   ],
   "source": [
    ">>> print (mylist[1:])# Va de la valeur [1] inclus à la dernière valeur inclus"
   ]
  },
  {
   "cell_type": "code",
   "execution_count": 103,
   "metadata": {
    "collapsed": false
   },
   "outputs": [
    {
     "name": "stdout",
     "output_type": "stream",
     "text": [
      "['Liste article 1', 3.14, 6]\n"
     ]
    }
   ],
   "source": [
    "print (mylist[::2])# Va de la première valeur inclus jusqu'a la dernière par pas de 2"
   ]
  },
  {
   "cell_type": "markdown",
   "metadata": {},
   "source": [
    "# Les chaînes de caractères :"
   ]
  },
  {
   "cell_type": "markdown",
   "metadata": {},
   "source": [
    "Les chaînes de caractères peuvent utiliser des guillemets simples ou doubles, et vous pouvez avoir des guillemets d'un type dans une chaîne qui utilise l'autre type (ie \"Il a dit 'bonjour'.\" Est valide). \n",
    "\n",
    "Les chaînes multilignes sont entre guillemets triples doubles (ou simples) (\"\"\"). \n",
    "\n",
    "Python supporte Unicode, en utilisant la syntaxe : u\"Ceci est une chaîne unicode \". \n",
    "\n",
    "Pour remplir une chaîne avec des valeurs, vous utilisez le % ( Modulo) et un tuple. Chaque %s est remplacé par un élément du tuple, de gauche à droite, et vous pouvez également utiliser des substitutions de dictionnaire comme suit:"
   ]
  },
  {
   "cell_type": "code",
   "execution_count": 4,
   "metadata": {
    "collapsed": false
   },
   "outputs": [
    {
     "name": "stdout",
     "output_type": "stream",
     "text": [
      "Nom: Poromenos\n",
      "Nombre: 3\n",
      "Chaine: ---\n"
     ]
    }
   ],
   "source": [
    "print ((\"Nom: %s\\nNombre: %s\\nChaine: %s\")%(\"Poromenos\", 3, 3*\"-\"))"
   ]
  },
  {
   "cell_type": "code",
   "execution_count": 173,
   "metadata": {
    "collapsed": true
   },
   "outputs": [],
   "source": [
    "strString = \"\"\"This is\n",
    "a multiline\n",
    "string.\"\"\""
   ]
  },
  {
   "cell_type": "code",
   "execution_count": 3,
   "metadata": {
    "collapsed": false
   },
   "outputs": [
    {
     "name": "stdout",
     "output_type": "stream",
     "text": [
      "Ceci est un test.\n"
     ]
    }
   ],
   "source": [
    "# AVERTISSEMENT: ne pas oublier le s dans \"%(key)s\".\n",
    "print ((\"Ceci %(verbe)s un %(nom)s.\")%{\"nom\": \"test\", \"verbe\": \"est\"})"
   ]
  },
  {
   "cell_type": "markdown",
   "metadata": {},
   "source": [
    "# Instruction de contrôle de flux"
   ]
  },
  {
   "cell_type": "markdown",
   "metadata": {},
   "source": [
    "Les nstructions de contrôle de flux sont : if , for , et while . \n",
    "Il n'y a pas switch, il faut utilisez if à la place. \n",
    "Utiliser for pour parcourir les valeurs d'une liste. \n",
    "Pour obtenir une liste de valeurs, utilisez range(nombre)."
   ]
  },
  {
   "cell_type": "code",
   "execution_count": 2,
   "metadata": {
    "collapsed": false
   },
   "outputs": [
    {
     "name": "stdout",
     "output_type": "stream",
     "text": [
      "range(0, 10)\n"
     ]
    }
   ],
   "source": [
    "rangelist = range(10)\n",
    ">>> print (rangelist)"
   ]
  },
  {
   "cell_type": "code",
   "execution_count": 4,
   "metadata": {
    "collapsed": false
   },
   "outputs": [
    {
     "name": "stdout",
     "output_type": "stream",
     "text": [
      "Je ne sais pas\n"
     ]
    }
   ],
   "source": [
    "for number in rangelist:\n",
    "    # Vérifier si 'number' est\n",
    "    # présent dans le tuple\n",
    "    if number in (3, 4, 7, 9):\n",
    "        # \"Break\" termine la boucle for sans\n",
    "        # exécuter le contenu de l'instruction \"else\".\n",
    "        break\n",
    "    else:\n",
    "        # \"Continue\" permet de passer à la prochaine itération\n",
    "        # de la boucle. Il est plutôt inutile ici car c'est,\n",
    "        # la dernière instruction de la boucle.\n",
    "        continue\n",
    "else:\n",
    "    # L'instruction else est optionnelle.\n",
    "    # Le contenu de celle-ci est exécuté seulement si la boucle n'est pas stoppée par le \"break\".\n",
    "    pass # Ne rien faire\n",
    "\n",
    "if rangelist[1] == 2:\n",
    "    print (\"Deuxième item (le premier index d'une liste est 0) est 2\")\n",
    "elif rangelist[1] == 3:\n",
    "    print (\"Deuxième item (le premier index d'une liste est 0) est 3\")\n",
    "else:\n",
    "    print (\"Je ne sais pas\")"
   ]
  },
  {
   "cell_type": "markdown",
   "metadata": {},
   "source": [
    "# Les fonctions"
   ]
  },
  {
   "cell_type": "markdown",
   "metadata": {},
   "source": [
    "Les fonctions sont déclarées avec le mot clé \"def\".\n",
    "Les arguments possibles sont definis dans la declaration de la fonction. Ceux-ci sont places apres les arguments obligatoires et sont initialisee avec des valeurs par defaut.  \n",
    "\n",
    "Pour les arguments nommés, le nom de l’argument est assigné a la valeur. Les fonctions peuvent retourner un tuple. Une fonction lambda doit au minimum contenir une instruction.\n",
    "\n",
    "Les parametres sont passés par référence mais les types non-mutables (ndt: tuples, int, strings etc. en programmation objet, les types non-mutables sont des objets dont on ne peut modifier l’etat une fois qu’ils ont  ́ete crees) ne peuvent etre changés. Ceci est du au fait que l’emplacement memoire de l’element est passé et lier un autre objet a une variable remplace l’ancien objet. Les types non-mutables\n",
    "sont donc remplacés."
   ]
  },
  {
   "cell_type": "code",
   "execution_count": 9,
   "metadata": {
    "collapsed": false
   },
   "outputs": [
    {
     "name": "stdout",
     "output_type": "stream",
     "text": [
      "2\n"
     ]
    }
   ],
   "source": [
    "# Même chose que : def f(x): return x + 1\n",
    "functionvar = lambda x: x + 1\n",
    "print (functionvar(1))"
   ]
  },
  {
   "cell_type": "code",
   "execution_count": 20,
   "metadata": {
    "collapsed": true
   },
   "outputs": [
    {
     "name": "stdout",
     "output_type": "stream",
     "text": [
      "([1, 2, 3, 'Nouvel item'], 4, 'Chaine par défaut')\n"
     ]
    },
    {
     "data": {
      "text/plain": [
       "[1, 2, 3, 'Nouvel item']"
      ]
     },
     "execution_count": 20,
     "metadata": {},
     "output_type": "execute_result"
    }
   ],
   "source": [
    "# an_int et a_string sont optionnels, ils ont des valeurs par défauts\n",
    "# ou cas ou l'une d'entre elle ne serait pas passée \n",
    "# (respectivement 2 et \"chaine par défaut\").\n",
    "def passing_example(a_list, an_int=2, a_string=\"Chaine par défaut\"):\n",
    "    a_list.append(\"Nouvel item\")\n",
    "    an_int = 4\n",
    "    return a_list, an_int, a_string\n",
    "\n",
    "my_list = [1, 2, 3]\n",
    "my_int = 10\n",
    "\n",
    "print (passing_example(my_list, my_int))\n",
    "my_list"
   ]
  },
  {
   "cell_type": "code",
   "execution_count": 21,
   "metadata": {
    "collapsed": true
   },
   "outputs": [
    {
     "data": {
      "text/plain": [
       "10"
      ]
     },
     "execution_count": 21,
     "metadata": {},
     "output_type": "execute_result"
    }
   ],
   "source": [
    "my_int"
   ]
  },
  {
   "cell_type": "markdown",
   "metadata": {},
   "source": [
    "# Classes"
   ]
  },
  {
   "cell_type": "markdown",
   "metadata": {},
   "source": [
    "Python supporte une forme limitee d’heritage multiple entre classe. Des variables et des methodes privees peuvent etre déclarees en ajoutant au minimum deux underscore avant le nom choisi (ex: ”__spam”)."
   ]
  },
  {
   "cell_type": "code",
   "execution_count": 2,
   "metadata": {
    "collapsed": false
   },
   "outputs": [
    {
     "data": {
      "text/plain": [
       "3"
      ]
     },
     "execution_count": 2,
     "metadata": {},
     "output_type": "execute_result"
    }
   ],
   "source": [
    "class MaClass(object):\n",
    "    common = 10\n",
    "    def __init__(self):\n",
    "        self.mavariable = 3\n",
    "    def mafunction(self, arg1, arg2):\n",
    "        return self.mavariable\n",
    "\n",
    "# Instanciation de la classe\n",
    "classinstance = MaClass()\n",
    "classinstance.mafunction(1, 2)"
   ]
  },
  {
   "cell_type": "code",
   "execution_count": 11,
   "metadata": {
    "collapsed": false
   },
   "outputs": [
    {
     "data": {
      "text/plain": [
       "10"
      ]
     },
     "execution_count": 11,
     "metadata": {},
     "output_type": "execute_result"
    }
   ],
   "source": [
    "# Cette variable est partagé entre toutes les classes\n",
    ">>> classinstance2 = MyClass()\n",
    ">>> classinstance.common"
   ]
  },
  {
   "cell_type": "code",
   "execution_count": 4,
   "metadata": {
    "collapsed": false
   },
   "outputs": [
    {
     "data": {
      "text/plain": [
       "10"
      ]
     },
     "execution_count": 4,
     "metadata": {},
     "output_type": "execute_result"
    }
   ],
   "source": [
    ">>> classinstance2.common"
   ]
  },
  {
   "cell_type": "code",
   "execution_count": 5,
   "metadata": {
    "collapsed": false
   },
   "outputs": [
    {
     "data": {
      "text/plain": [
       "10"
      ]
     },
     "execution_count": 5,
     "metadata": {},
     "output_type": "execute_result"
    }
   ],
   "source": [
    ">>> MyClass.common = 30\n",
    ">>> classinstance.common"
   ]
  },
  {
   "cell_type": "code",
   "execution_count": 6,
   "metadata": {
    "collapsed": false
   },
   "outputs": [
    {
     "data": {
      "text/plain": [
       "30"
      ]
     },
     "execution_count": 6,
     "metadata": {},
     "output_type": "execute_result"
    }
   ],
   "source": [
    ">>> classinstance2.common"
   ]
  },
  {
   "cell_type": "code",
   "execution_count": 7,
   "metadata": {
    "collapsed": false
   },
   "outputs": [
    {
     "data": {
      "text/plain": [
       "10"
      ]
     },
     "execution_count": 7,
     "metadata": {},
     "output_type": "execute_result"
    }
   ],
   "source": [
    ">>> classinstance.common = 10\n",
    ">>> classinstance.common"
   ]
  },
  {
   "cell_type": "code",
   "execution_count": 8,
   "metadata": {
    "collapsed": false
   },
   "outputs": [
    {
     "data": {
      "text/plain": [
       "30"
      ]
     },
     "execution_count": 8,
     "metadata": {},
     "output_type": "execute_result"
    }
   ],
   "source": [
    ">>> classinstance2.common"
   ]
  },
  {
   "cell_type": "code",
   "execution_count": 9,
   "metadata": {
    "collapsed": false
   },
   "outputs": [
    {
     "data": {
      "text/plain": [
       "10"
      ]
     },
     "execution_count": 9,
     "metadata": {},
     "output_type": "execute_result"
    }
   ],
   "source": [
    ">>> MyClass.common = 50\n",
    "# Ceci n'a pas changé car \"common\" est\n",
    "# une variable d'instance\n",
    ">>> classinstance.common"
   ]
  },
  {
   "cell_type": "code",
   "execution_count": 10,
   "metadata": {
    "collapsed": false
   },
   "outputs": [
    {
     "data": {
      "text/plain": [
       "50"
      ]
     },
     "execution_count": 10,
     "metadata": {},
     "output_type": "execute_result"
    }
   ],
   "source": [
    ">>> classinstance2.common"
   ]
  },
  {
   "cell_type": "code",
   "execution_count": 12,
   "metadata": {
    "collapsed": false
   },
   "outputs": [
    {
     "name": "stdout",
     "output_type": "stream",
     "text": [
      "hello\n"
     ]
    },
    {
     "data": {
      "text/plain": [
       "3"
      ]
     },
     "execution_count": 12,
     "metadata": {},
     "output_type": "execute_result"
    }
   ],
   "source": [
    "# Cette classe hérite de MyClass.\n",
    "# L'héritage est déclaré tel que:\n",
    "# class OtherClass(MyClass1, MyClass2, MyClassN)\n",
    "class OtherClass(MyClass):\n",
    "    # L'argument \"self\" est passé automatiquement\n",
    "    # et réfere à l'instance de la classe, donc vous pouvez définir\n",
    "    # les variables d'instance comme ci-dessus mais depuis l'intérieur de la classe\n",
    "    def __init__(self, arg1):\n",
    "        self.myvariable = 3\n",
    "        print (arg1)\n",
    "\n",
    "classinstance = OtherClass(\"hello\")\n",
    "classinstance.myfunction(1, 2)"
   ]
  },
  {
   "cell_type": "code",
   "execution_count": 13,
   "metadata": {
    "collapsed": false
   },
   "outputs": [
    {
     "data": {
      "text/plain": [
       "10"
      ]
     },
     "execution_count": 13,
     "metadata": {},
     "output_type": "execute_result"
    }
   ],
   "source": [
    "# Cette classe n'a pas de membre nommé .test, mais\n",
    "# nous pouvons en ajouter un à l'instance. \n",
    "# Il sera uniquement membre de l'instance.\n",
    "classinstance.test = 10\n",
    "classinstance.test"
   ]
  },
  {
   "cell_type": "markdown",
   "metadata": {},
   "source": [
    "# Exceptions"
   ]
  },
  {
   "cell_type": "markdown",
   "metadata": {},
   "source": [
    "Les Exceptions en python sont gerees par des blocks de type try-except [nom de l’exception]. Exemple:"
   ]
  },
  {
   "cell_type": "code",
   "execution_count": 16,
   "metadata": {
    "collapsed": false
   },
   "outputs": [
    {
     "name": "stdout",
     "output_type": "stream",
     "text": [
      "Oops, invalide.\n",
      "Nous l'avons fait\n"
     ]
    }
   ],
   "source": [
    "def some_function():\n",
    "    try:\n",
    "        # Diviser par zéro donne une exception\n",
    "        10 / 0\n",
    "    except ZeroDivisionError:\n",
    "        print (\"Oops, invalide.\")\n",
    "    else:\n",
    "        # Pas d'exception, tout est bon !\n",
    "        pass\n",
    "    finally:\n",
    "        # Ceci est executé après le code\n",
    "        # toutes les exception sont enlevées\n",
    "        print (\"Nous l'avons fait\")\n",
    "\n",
    "some_function()"
   ]
  },
  {
   "cell_type": "markdown",
   "metadata": {},
   "source": [
    "# Imports"
   ]
  },
  {
   "cell_type": "markdown",
   "metadata": {},
   "source": [
    "Les librairies externes sont utilisées à l’aide du mot clé import [libname]. Vous pouvez également utiliser : from [libname] import [funcname] pour importer seulement une fonction. \n",
    "Voici un exemple:"
   ]
  },
  {
   "cell_type": "code",
   "execution_count": 21,
   "metadata": {
    "collapsed": false
   },
   "outputs": [
    {
     "name": "stdout",
     "output_type": "stream",
     "text": [
      "14\n"
     ]
    }
   ],
   "source": [
    "import random\n",
    "from time import clock\n",
    "\n",
    "randomint = random.randint(1, 100)\n",
    "print (randomint)"
   ]
  },
  {
   "cell_type": "markdown",
   "metadata": {},
   "source": [
    "# Lecture/écriture de fichiers - IMPORTANT"
   ]
  },
  {
   "cell_type": "markdown",
   "metadata": {},
   "source": [
    "Python posséde de nombreuses librairire. Par exemple voici comment \"serializing\" (conversion de structure de donnees avec la librairie \"pickle\") avec lecture/écriture fichiers."
   ]
  },
  {
   "cell_type": "code",
   "execution_count": 23,
   "metadata": {
    "collapsed": false
   },
   "outputs": [
    {
     "ename": "PermissionError",
     "evalue": "[Errno 13] Permission denied: 'C:\\\\\\\\binary.dat'",
     "output_type": "error",
     "traceback": [
      "\u001b[0;31m---------------------------------------------------------------------------\u001b[0m",
      "\u001b[0;31mPermissionError\u001b[0m                           Traceback (most recent call last)",
      "\u001b[0;32m<ipython-input-23-94566d07844e>\u001b[0m in \u001b[0;36m<module>\u001b[0;34m()\u001b[0m\n\u001b[1;32m      3\u001b[0m \u001b[1;31m# Ouvrir le fichier C:\\\\binary.dat for writing. la lettre r avant le\u001b[0m\u001b[1;33m\u001b[0m\u001b[1;33m\u001b[0m\u001b[0m\n\u001b[1;32m      4\u001b[0m \u001b[1;31m# nom du fichier est utilisé pour anticiper le caractère antislash.\u001b[0m\u001b[1;33m\u001b[0m\u001b[1;33m\u001b[0m\u001b[0m\n\u001b[0;32m----> 5\u001b[0;31m \u001b[0mmyfile\u001b[0m \u001b[1;33m=\u001b[0m \u001b[0mopen\u001b[0m\u001b[1;33m(\u001b[0m\u001b[1;34mr\"C:\\\\binary.dat\"\u001b[0m\u001b[1;33m,\u001b[0m \u001b[1;34m\"w\"\u001b[0m\u001b[1;33m)\u001b[0m\u001b[1;33m\u001b[0m\u001b[0m\n\u001b[0m\u001b[1;32m      6\u001b[0m \u001b[0mpickle\u001b[0m\u001b[1;33m.\u001b[0m\u001b[0mdump\u001b[0m\u001b[1;33m(\u001b[0m\u001b[0mmylist\u001b[0m\u001b[1;33m,\u001b[0m \u001b[0mmyfile\u001b[0m\u001b[1;33m)\u001b[0m\u001b[1;33m\u001b[0m\u001b[0m\n\u001b[1;32m      7\u001b[0m \u001b[0mmyfile\u001b[0m\u001b[1;33m.\u001b[0m\u001b[0mclose\u001b[0m\u001b[1;33m(\u001b[0m\u001b[1;33m)\u001b[0m\u001b[1;33m\u001b[0m\u001b[0m\n",
      "\u001b[0;31mPermissionError\u001b[0m: [Errno 13] Permission denied: 'C:\\\\\\\\binary.dat'"
     ]
    }
   ],
   "source": [
    "import pickle\n",
    "mylist = [\"This\", \"is\", 4, 13327]\n",
    "# Ouvrir le fichier C:\\\\binary.dat for writing. la lettre r avant le\n",
    "# nom du fichier est utilisé pour anticiper le caractère antislash\n",
    "myfile = open(r\"C:\\\\binary.dat\", \"w\")\n",
    "pickle.dump(mylist, myfile)\n",
    "myfile.close()\n",
    "\n",
    "myfile = open(r\"C:\\\\text.txt\", \"w\")\n",
    "myfile.write(\"This is a sample string\")\n",
    "myfile.close()\n",
    "\n",
    "myfile = open(r\"C:\\\\text.txt\")\n",
    "print (myfile.read())\n"
   ]
  },
  {
   "cell_type": "markdown",
   "metadata": {},
   "source": [
    "# Divers"
   ]
  },
  {
   "cell_type": "markdown",
   "metadata": {},
   "source": [
    "• Les conditions peuvent être enchainées. 1 < a < 3 verifie que a est inferieur à 3 et superieur à 1.\n",
    "\n",
    "• Vous pouvez utiliser ”del” afin d’effacer des variables ou des valeurs dans des tableaux.\n",
    "\n",
    "• List fournit un moyen pour créer et manipuler des listes. Ils consistent en une expression suivie d'une clause for suivie de zéro ou plus \"if\" ou \"for\" des clauses, comme suit:"
   ]
  },
  {
   "cell_type": "code",
   "execution_count": 51,
   "metadata": {
    "collapsed": false
   },
   "outputs": [
    {
     "name": "stdout",
     "output_type": "stream",
     "text": [
      "[3, 4, 5, 6, 8, 10, 9, 12, 15]\n"
     ]
    }
   ],
   "source": [
    ">>> lst1 = [1, 2, 3]\n",
    ">>> lst2 = [3, 4, 5]\n",
    ">>> print ([x * y for x in lst1 for y in lst2])"
   ]
  },
  {
   "cell_type": "code",
   "execution_count": 52,
   "metadata": {
    "collapsed": false
   },
   "outputs": [
    {
     "name": "stdout",
     "output_type": "stream",
     "text": [
      "[2, 3]\n"
     ]
    }
   ],
   "source": [
    ">>> print ([x for x in lst1 if 4 > x > 1])"
   ]
  },
  {
   "cell_type": "code",
   "execution_count": 55,
   "metadata": {
    "collapsed": false
   },
   "outputs": [
    {
     "data": {
      "text/plain": [
       "True"
      ]
     },
     "execution_count": 55,
     "metadata": {},
     "output_type": "execute_result"
    }
   ],
   "source": [
    "# Vérifie que la condition est vraie pour tout les items.\n",
    "# \"any\" retourne true si une valeur de la liste correspond.\n",
    "any([i % 3 for i in [3, 3, 4, 4, 3]])"
   ]
  },
  {
   "cell_type": "code",
   "execution_count": 30,
   "metadata": {
    "collapsed": false
   },
   "outputs": [
    {
     "data": {
      "text/plain": [
       "2"
      ]
     },
     "execution_count": 30,
     "metadata": {},
     "output_type": "execute_result"
    }
   ],
   "source": [
    "# Car 4 % 3 = 1, et 1 est true, donc any()\n",
    "# retourne True.\n",
    "\n",
    "# Vérifie combien d'item sont true.\n",
    "sum(1 for i in [3, 3, 4, 4, 3] if i == 4)"
   ]
  },
  {
   "cell_type": "code",
   "execution_count": 43,
   "metadata": {
    "collapsed": false
   },
   "outputs": [
    {
     "ename": "NameError",
     "evalue": "name 'lst1' is not defined",
     "output_type": "error",
     "traceback": [
      "\u001b[0;31m---------------------------------------------------------------------------\u001b[0m",
      "\u001b[0;31mNameError\u001b[0m                                 Traceback (most recent call last)",
      "\u001b[0;32m<ipython-input-43-2f519e9e1461>\u001b[0m in \u001b[0;36m<module>\u001b[0;34m()\u001b[0m\n\u001b[0;32m----> 1\u001b[0;31m \u001b[1;32mdel\u001b[0m \u001b[0mlst1\u001b[0m\u001b[1;33m[\u001b[0m\u001b[1;36m0\u001b[0m\u001b[1;33m]\u001b[0m\u001b[1;33m\u001b[0m\u001b[0m\n\u001b[0m\u001b[1;32m      2\u001b[0m \u001b[0mprint\u001b[0m \u001b[1;33m(\u001b[0m\u001b[0mlst1\u001b[0m\u001b[1;33m)\u001b[0m\u001b[1;33m\u001b[0m\u001b[0m\n\u001b[1;32m      3\u001b[0m \u001b[1;33m\u001b[0m\u001b[0m\n\u001b[1;32m      4\u001b[0m \u001b[1;32mdel\u001b[0m \u001b[0mlst1\u001b[0m\u001b[1;33m\u001b[0m\u001b[0m\n",
      "\u001b[0;31mNameError\u001b[0m: name 'lst1' is not defined"
     ]
    }
   ],
   "source": [
    "del lst1[0]\n",
    "print (lst1)\n",
    "\n",
    "del lst1"
   ]
  },
  {
   "cell_type": "markdown",
   "metadata": {},
   "source": [
    "Le variables globales sont declarees en dehors des fonctions avec le mot cle ”global”.\n",
    "Si vous ne le faites pas de cette maniere, Python va affecter cet objet a une variable locale. Exemple:"
   ]
  },
  {
   "cell_type": "code",
   "execution_count": 44,
   "metadata": {
    "collapsed": false
   },
   "outputs": [],
   "source": [
    "number = 5\n",
    "\n",
    "def myfunc():\n",
    "    # Ceci affichera 5.\n",
    "    print (number)\n",
    "\n",
    "def anotherfunc():\n",
    "    # Ceci lève un exception car la variable n'a pas été\n",
    "    # initialisée avant le \"print\". Python arrive à determiné qu'une valeur \n",
    "    # sera affecté à cette variable plus tard dans le programme. In crée donc\n",
    "    # un nouvel objet de manière locale et l'utilise au d'utiliser la variable globale.\n",
    "    print (number)\n",
    "    number = 3\n",
    "\n",
    "def yetanotherfunc():\n",
    "    global number\n",
    "    # Ceci corrige la variable globale.\n",
    "    number = 3"
   ]
  }
 ],
 "metadata": {
  "anaconda-cloud": {},
  "kernelspec": {
   "display_name": "Python [default]",
   "language": "python",
   "name": "python3"
  },
  "language_info": {
   "codemirror_mode": {
    "name": "ipython",
    "version": 3
   },
   "file_extension": ".py",
   "mimetype": "text/x-python",
   "name": "python",
   "nbconvert_exporter": "python",
   "pygments_lexer": "ipython3",
   "version": "3.5.2"
  },
  "nbpresent": {
   "slides": {
    "02799ab6-f41d-4758-b2b2-563a104b0082": {
     "id": "02799ab6-f41d-4758-b2b2-563a104b0082",
     "prev": "22bfe7ec-a372-4a3f-8449-8aa06991ff5a",
     "regions": {
      "6ded1a4a-bc7d-48df-bb14-9b4b85cd99eb": {
       "attrs": {
        "height": 0.8,
        "width": 0.8,
        "x": 0.1,
        "y": 0.1
       },
       "content": {
        "cell": "3ada93cd-d8c8-48b0-8c70-0784b909ab71",
        "part": "whole"
       },
       "id": "6ded1a4a-bc7d-48df-bb14-9b4b85cd99eb"
      }
     }
    },
    "0f860511-f807-489f-b22f-04c4b5fcb77f": {
     "id": "0f860511-f807-489f-b22f-04c4b5fcb77f",
     "prev": "02799ab6-f41d-4758-b2b2-563a104b0082",
     "regions": {
      "ecda996a-8527-48d3-9624-5d24df79edb7": {
       "attrs": {
        "height": 0.8,
        "width": 0.8,
        "x": 0.1,
        "y": 0.1
       },
       "content": {
        "cell": "03f33a77-c885-4bfb-9abd-aefc9f5e5a05",
        "part": "whole"
       },
       "id": "ecda996a-8527-48d3-9624-5d24df79edb7"
      }
     }
    },
    "102ddbd5-5165-462a-81e2-4eebaff8add3": {
     "id": "102ddbd5-5165-462a-81e2-4eebaff8add3",
     "prev": "11c1abff-bea3-474b-8b63-bba12accc305",
     "regions": {
      "bac265c7-a11f-4ca2-8845-c4f01f26d7f1": {
       "attrs": {
        "height": 0.8,
        "width": 0.8,
        "x": 0.1,
        "y": 0.1
       },
       "content": {
        "cell": "c24592cc-6263-45eb-8f90-e983e9702db1",
        "part": "whole"
       },
       "id": "bac265c7-a11f-4ca2-8845-c4f01f26d7f1"
      }
     }
    },
    "11c1abff-bea3-474b-8b63-bba12accc305": {
     "id": "11c1abff-bea3-474b-8b63-bba12accc305",
     "prev": "1f5d153b-dfbe-45f2-8104-b3d52e5369a5",
     "regions": {
      "ba8dff8f-01a0-44f3-8a11-e199bf729d89": {
       "attrs": {
        "height": 0.8,
        "width": 0.8,
        "x": 0.1,
        "y": 0.1
       },
       "content": {
        "cell": "fcd3c38d-ea6c-4783-ae4d-3ce95fbdf6c1",
        "part": "whole"
       },
       "id": "ba8dff8f-01a0-44f3-8a11-e199bf729d89"
      }
     }
    },
    "188c2574-a815-4344-a9e5-a73925f7c04b": {
     "id": "188c2574-a815-4344-a9e5-a73925f7c04b",
     "prev": "5ec9e115-49c4-4f4a-90b2-8a787ae3ca9f",
     "regions": {
      "b13fc644-9afe-4b12-a7c5-a98fee2665a7": {
       "attrs": {
        "height": 0.8,
        "width": 0.8,
        "x": 0.1,
        "y": 0.1
       },
       "content": {
        "cell": "189dc7c2-67d3-453c-a58c-50914b0636f1",
        "part": "whole"
       },
       "id": "b13fc644-9afe-4b12-a7c5-a98fee2665a7"
      }
     }
    },
    "1f5d153b-dfbe-45f2-8104-b3d52e5369a5": {
     "id": "1f5d153b-dfbe-45f2-8104-b3d52e5369a5",
     "prev": null,
     "regions": {
      "73f8c12d-b274-4310-9b07-c732dfa0648b": {
       "attrs": {
        "height": 0.8,
        "width": 0.8,
        "x": 0.1,
        "y": 0.1
       },
       "content": {
        "cell": "0d0fad76-1565-42e7-a6f8-bf089af48e28",
        "part": "whole"
       },
       "id": "73f8c12d-b274-4310-9b07-c732dfa0648b"
      }
     }
    },
    "22bfe7ec-a372-4a3f-8449-8aa06991ff5a": {
     "id": "22bfe7ec-a372-4a3f-8449-8aa06991ff5a",
     "prev": "85a62849-a63a-4a56-96c9-47ea89a9e5cd",
     "regions": {
      "08750f97-581c-4a7f-847e-143678f8c846": {
       "attrs": {
        "height": 0.8,
        "width": 0.8,
        "x": 0.1,
        "y": 0.1
       },
       "content": {
        "cell": "290ad44c-d05e-465c-86bc-e9de539847f0",
        "part": "whole"
       },
       "id": "08750f97-581c-4a7f-847e-143678f8c846"
      }
     }
    },
    "5ec9e115-49c4-4f4a-90b2-8a787ae3ca9f": {
     "id": "5ec9e115-49c4-4f4a-90b2-8a787ae3ca9f",
     "prev": "6b5d46da-baaa-4cf7-8e81-4ac791448a42",
     "regions": {
      "cf89293a-d5e0-4038-9c6b-d202efc2858f": {
       "attrs": {
        "height": 0.8,
        "width": 0.8,
        "x": 0.1,
        "y": 0.1
       },
       "content": {
        "cell": "3eee8264-000a-420b-93e4-feee7cf13c0b",
        "part": "whole"
       },
       "id": "cf89293a-d5e0-4038-9c6b-d202efc2858f"
      }
     }
    },
    "67752036-1ca9-4a77-8fee-d24d4cab8296": {
     "id": "67752036-1ca9-4a77-8fee-d24d4cab8296",
     "prev": "83a4702d-b3d1-43e2-9066-305817ff54c1",
     "regions": {
      "f6284f1b-f985-4240-8b1b-8f602abe94a3": {
       "attrs": {
        "height": 0.8,
        "width": 0.8,
        "x": 0.1,
        "y": 0.1
       },
       "content": {
        "cell": "caefad36-8127-405b-ac20-f74e741a29ac",
        "part": "whole"
       },
       "id": "f6284f1b-f985-4240-8b1b-8f602abe94a3"
      }
     }
    },
    "6b5d46da-baaa-4cf7-8e81-4ac791448a42": {
     "id": "6b5d46da-baaa-4cf7-8e81-4ac791448a42",
     "prev": "67752036-1ca9-4a77-8fee-d24d4cab8296",
     "regions": {
      "bc191124-dc9b-44c6-9681-1714af68f22e": {
       "attrs": {
        "height": 0.8,
        "width": 0.8,
        "x": 0.1,
        "y": 0.1
       },
       "content": {
        "cell": "6b2dab7b-3180-4abe-81d6-4fa07a1be735",
        "part": "whole"
       },
       "id": "bc191124-dc9b-44c6-9681-1714af68f22e"
      }
     }
    },
    "83a4702d-b3d1-43e2-9066-305817ff54c1": {
     "id": "83a4702d-b3d1-43e2-9066-305817ff54c1",
     "prev": "ec21da3f-786d-40de-8206-eb616a5b5efe",
     "regions": {
      "a2b95f2a-4fa2-4190-9020-1453d199236a": {
       "attrs": {
        "height": 0.8,
        "width": 0.8,
        "x": 0.1,
        "y": 0.1
       },
       "content": {
        "cell": "3cf9ea35-2183-4d7d-be72-fdb613270dca",
        "part": "whole"
       },
       "id": "a2b95f2a-4fa2-4190-9020-1453d199236a"
      }
     }
    },
    "85a62849-a63a-4a56-96c9-47ea89a9e5cd": {
     "id": "85a62849-a63a-4a56-96c9-47ea89a9e5cd",
     "prev": "102ddbd5-5165-462a-81e2-4eebaff8add3",
     "regions": {
      "90a073e6-9e69-4896-8a83-95da2cef7145": {
       "attrs": {
        "height": 0.8,
        "width": 0.8,
        "x": 0.1,
        "y": 0.1
       },
       "content": {
        "cell": "c2b1c0cf-2e25-4fab-98aa-1436abdf2e8d",
        "part": "whole"
       },
       "id": "90a073e6-9e69-4896-8a83-95da2cef7145"
      }
     }
    },
    "ec21da3f-786d-40de-8206-eb616a5b5efe": {
     "id": "ec21da3f-786d-40de-8206-eb616a5b5efe",
     "prev": "0f860511-f807-489f-b22f-04c4b5fcb77f",
     "regions": {
      "99ab23b3-35ff-4087-97d0-989b6a289539": {
       "attrs": {
        "height": 0.8,
        "width": 0.8,
        "x": 0.1,
        "y": 0.1
       },
       "content": {
        "cell": "2362609e-5577-443a-8673-2b40cd595868",
        "part": "whole"
       },
       "id": "99ab23b3-35ff-4087-97d0-989b6a289539"
      }
     }
    }
   },
   "themes": {}
  }
 },
 "nbformat": 4,
 "nbformat_minor": 1
}
