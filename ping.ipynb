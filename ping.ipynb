{
 "cells": [
  {
   "cell_type": "markdown",
   "metadata": {},
   "source": [
    "## Importation des librairies"
   ]
  },
  {
   "cell_type": "code",
   "execution_count": 8,
   "metadata": {
    "collapsed": true
   },
   "outputs": [],
   "source": [
    "import pandas as pd\n",
    "import numpy as np\n",
    "import matplotlib.pyplot as plt"
   ]
  },
  {
   "cell_type": "markdown",
   "metadata": {},
   "source": [
    "## Création de la première série"
   ]
  },
  {
   "cell_type": "code",
   "execution_count": 45,
   "metadata": {
    "collapsed": false
   },
   "outputs": [
    {
     "data": {
      "text/plain": [
       "ASR                   Architecture et sécurité des Réseaux\n",
       "BDTN                                              Big Data\n",
       "IAIR                          IA : Informatique et réseaux\n",
       "ISN                                  Services du Numérique\n",
       "IF                                       Ingénieur finance\n",
       "ARI                               Automatique et robotique\n",
       "EDD                       Energie et développement durable\n",
       "GET                          Génie électrique et transport\n",
       "IADES                 IA : Distribution énergie et signaux\n",
       "MEG                          Mécatronique génie électrique\n",
       "ISEVA    Ingénieurie des sytèmes embarqués Véhicule aut...\n",
       "ISEOC    Ingénieurie des sytèmes embarqués Objets commu...\n",
       "ISM                      Ingénieurie des systèmes médicaux\n",
       "ESAA     Electronique des systèmes pour automobile et a...\n",
       "IT                                     Ingénieurie Télécom\n",
       "dtype: object"
      ]
     },
     "execution_count": 45,
     "metadata": {},
     "output_type": "execute_result"
    }
   ],
   "source": [
    "dominantes = pd.Series(['Architecture et sécurité des Réseaux', \n",
    "                'Big Data', \n",
    "                'IA : Informatique et réseaux', \n",
    "                                'Services du Numérique', \n",
    "                'Ingénieur finance', \n",
    "                'Automatique et robotique',\n",
    "                'Energie et développement durable',\n",
    "                'Génie électrique et transport',\n",
    "                'IA : Distribution énergie et signaux', \n",
    "                'Mécatronique génie électrique',\n",
    "                'Ingénieurie des sytèmes embarqués Véhicule autonome',\n",
    "                'Ingénieurie des sytèmes embarqués Objets communicants',\n",
    "                'Ingénieurie des systèmes médicaux',\n",
    "                'Electronique des systèmes pour automobile et aéronautique',\n",
    "                'Ingénieurie Télécom'],\n",
    "                ['ASR', \n",
    "                'BDTN', \n",
    "                'IAIR', \n",
    "                'ISN', \n",
    "                'IF', \n",
    "                'ARI',\n",
    "                'EDD',\n",
    "                'GET',\n",
    "                'IADES', \n",
    "                'MEG',\n",
    "                'ISEVA',\n",
    "                'ISEOC',\n",
    "                'ISM',\n",
    "                'ESAA',\n",
    "                'IT'])\n",
    "dominantes"
   ]
  },
  {
   "cell_type": "markdown",
   "metadata": {},
   "source": [
    "## On passe en dataframe"
   ]
  },
  {
   "cell_type": "code",
   "execution_count": 27,
   "metadata": {
    "collapsed": false
   },
   "outputs": [
    {
     "data": {
      "text/html": [
       "<div>\n",
       "<table border=\"1\" class=\"dataframe\">\n",
       "  <thead>\n",
       "    <tr style=\"text-align: right;\">\n",
       "      <th></th>\n",
       "      <th>Dominante</th>\n",
       "    </tr>\n",
       "  </thead>\n",
       "  <tbody>\n",
       "    <tr>\n",
       "      <th>ASR</th>\n",
       "      <td>Architecture et sécurité des Réseaux</td>\n",
       "    </tr>\n",
       "    <tr>\n",
       "      <th>BDTN</th>\n",
       "      <td>Big Data</td>\n",
       "    </tr>\n",
       "    <tr>\n",
       "      <th>IAIR</th>\n",
       "      <td>IA : Informatique et réseaux</td>\n",
       "    </tr>\n",
       "    <tr>\n",
       "      <th>ISN</th>\n",
       "      <td>Services du Numérique</td>\n",
       "    </tr>\n",
       "    <tr>\n",
       "      <th>IF</th>\n",
       "      <td>Ingénieur finance</td>\n",
       "    </tr>\n",
       "    <tr>\n",
       "      <th>ARI</th>\n",
       "      <td>Automatique et robotique</td>\n",
       "    </tr>\n",
       "    <tr>\n",
       "      <th>EDD</th>\n",
       "      <td>Energie et développement durable</td>\n",
       "    </tr>\n",
       "    <tr>\n",
       "      <th>GET</th>\n",
       "      <td>Génie électrique et transport</td>\n",
       "    </tr>\n",
       "    <tr>\n",
       "      <th>IADES</th>\n",
       "      <td>IA : Distribution énergie et signaux</td>\n",
       "    </tr>\n",
       "    <tr>\n",
       "      <th>MEG</th>\n",
       "      <td>Mécatronique génie électrique</td>\n",
       "    </tr>\n",
       "    <tr>\n",
       "      <th>ISEVA</th>\n",
       "      <td>Ingénieurie des sytèmes embarqués Véhicule aut...</td>\n",
       "    </tr>\n",
       "    <tr>\n",
       "      <th>ISEOC</th>\n",
       "      <td>Ingénieurie des sytèmes embarqués Objets commu...</td>\n",
       "    </tr>\n",
       "    <tr>\n",
       "      <th>ISM</th>\n",
       "      <td>Ingénieurie des systèmes médicaux</td>\n",
       "    </tr>\n",
       "    <tr>\n",
       "      <th>ESAA</th>\n",
       "      <td>Electronique des systèmes pour automobile et a...</td>\n",
       "    </tr>\n",
       "    <tr>\n",
       "      <th>IT</th>\n",
       "      <td>Ingénieurie Télécom</td>\n",
       "    </tr>\n",
       "  </tbody>\n",
       "</table>\n",
       "</div>"
      ],
      "text/plain": [
       "                                               Dominante\n",
       "ASR                 Architecture et sécurité des Réseaux\n",
       "BDTN                                            Big Data\n",
       "IAIR                        IA : Informatique et réseaux\n",
       "ISN                                Services du Numérique\n",
       "IF                                     Ingénieur finance\n",
       "ARI                             Automatique et robotique\n",
       "EDD                     Energie et développement durable\n",
       "GET                        Génie électrique et transport\n",
       "IADES               IA : Distribution énergie et signaux\n",
       "MEG                        Mécatronique génie électrique\n",
       "ISEVA  Ingénieurie des sytèmes embarqués Véhicule aut...\n",
       "ISEOC  Ingénieurie des sytèmes embarqués Objets commu...\n",
       "ISM                    Ingénieurie des systèmes médicaux\n",
       "ESAA   Electronique des systèmes pour automobile et a...\n",
       "IT                                   Ingénieurie Télécom"
      ]
     },
     "execution_count": 27,
     "metadata": {},
     "output_type": "execute_result"
    }
   ],
   "source": [
    "df=pd.DataFrame({'Dominante': dominantes})\n",
    "df"
   ]
  },
  {
   "cell_type": "markdown",
   "metadata": {},
   "source": [
    "## On ajoute la colonne"
   ]
  },
  {
   "cell_type": "code",
   "execution_count": 29,
   "metadata": {
    "collapsed": false
   },
   "outputs": [
    {
     "data": {
      "text/html": [
       "<div>\n",
       "<table border=\"1\" class=\"dataframe\">\n",
       "  <thead>\n",
       "    <tr style=\"text-align: right;\">\n",
       "      <th></th>\n",
       "      <th>Dominante</th>\n",
       "      <th>Département</th>\n",
       "    </tr>\n",
       "  </thead>\n",
       "  <tbody>\n",
       "    <tr>\n",
       "      <th>ASR</th>\n",
       "      <td>Architecture et sécurité des Réseaux</td>\n",
       "      <td>Techno pour info et de la com</td>\n",
       "    </tr>\n",
       "    <tr>\n",
       "      <th>BDTN</th>\n",
       "      <td>Big Data</td>\n",
       "      <td>Techno pour info et de la com</td>\n",
       "    </tr>\n",
       "    <tr>\n",
       "      <th>IAIR</th>\n",
       "      <td>IA : Informatique et réseaux</td>\n",
       "      <td>Techno pour info et de la com</td>\n",
       "    </tr>\n",
       "    <tr>\n",
       "      <th>ISN</th>\n",
       "      <td>Services du Numérique</td>\n",
       "      <td>Techno pour info et de la com</td>\n",
       "    </tr>\n",
       "    <tr>\n",
       "      <th>IF</th>\n",
       "      <td>Ingénieur finance</td>\n",
       "      <td>Techno pour info et de la com</td>\n",
       "    </tr>\n",
       "    <tr>\n",
       "      <th>ARI</th>\n",
       "      <td>Automatique et robotique</td>\n",
       "      <td>Génie électrique et énergie</td>\n",
       "    </tr>\n",
       "    <tr>\n",
       "      <th>EDD</th>\n",
       "      <td>Energie et développement durable</td>\n",
       "      <td>Génie électrique et énergie</td>\n",
       "    </tr>\n",
       "    <tr>\n",
       "      <th>GET</th>\n",
       "      <td>Génie électrique et transport</td>\n",
       "      <td>Génie électrique et énergie</td>\n",
       "    </tr>\n",
       "    <tr>\n",
       "      <th>IADES</th>\n",
       "      <td>IA : Distribution énergie et signaux</td>\n",
       "      <td>Génie électrique et énergie</td>\n",
       "    </tr>\n",
       "    <tr>\n",
       "      <th>MEG</th>\n",
       "      <td>Mécatronique génie électrique</td>\n",
       "      <td>Système embarqué</td>\n",
       "    </tr>\n",
       "    <tr>\n",
       "      <th>ISEVA</th>\n",
       "      <td>Ingénieurie des sytèmes embarqués Véhicule aut...</td>\n",
       "      <td>Système embarqué</td>\n",
       "    </tr>\n",
       "    <tr>\n",
       "      <th>ISEOC</th>\n",
       "      <td>Ingénieurie des sytèmes embarqués Objets commu...</td>\n",
       "      <td>Système embarqué</td>\n",
       "    </tr>\n",
       "    <tr>\n",
       "      <th>ISM</th>\n",
       "      <td>Ingénieurie des systèmes médicaux</td>\n",
       "      <td>Système embarqué</td>\n",
       "    </tr>\n",
       "    <tr>\n",
       "      <th>ESAA</th>\n",
       "      <td>Electronique des systèmes pour automobile et a...</td>\n",
       "      <td>Elect et télécom</td>\n",
       "    </tr>\n",
       "    <tr>\n",
       "      <th>IT</th>\n",
       "      <td>Ingénieurie Télécom</td>\n",
       "      <td>Elect et télécom</td>\n",
       "    </tr>\n",
       "  </tbody>\n",
       "</table>\n",
       "</div>"
      ],
      "text/plain": [
       "                                               Dominante  \\\n",
       "ASR                 Architecture et sécurité des Réseaux   \n",
       "BDTN                                            Big Data   \n",
       "IAIR                        IA : Informatique et réseaux   \n",
       "ISN                                Services du Numérique   \n",
       "IF                                     Ingénieur finance   \n",
       "ARI                             Automatique et robotique   \n",
       "EDD                     Energie et développement durable   \n",
       "GET                        Génie électrique et transport   \n",
       "IADES               IA : Distribution énergie et signaux   \n",
       "MEG                        Mécatronique génie électrique   \n",
       "ISEVA  Ingénieurie des sytèmes embarqués Véhicule aut...   \n",
       "ISEOC  Ingénieurie des sytèmes embarqués Objets commu...   \n",
       "ISM                    Ingénieurie des systèmes médicaux   \n",
       "ESAA   Electronique des systèmes pour automobile et a...   \n",
       "IT                                   Ingénieurie Télécom   \n",
       "\n",
       "                         Département  \n",
       "ASR    Techno pour info et de la com  \n",
       "BDTN   Techno pour info et de la com  \n",
       "IAIR   Techno pour info et de la com  \n",
       "ISN    Techno pour info et de la com  \n",
       "IF     Techno pour info et de la com  \n",
       "ARI      Génie électrique et énergie  \n",
       "EDD      Génie électrique et énergie  \n",
       "GET      Génie électrique et énergie  \n",
       "IADES    Génie électrique et énergie  \n",
       "MEG                 Système embarqué  \n",
       "ISEVA               Système embarqué  \n",
       "ISEOC               Système embarqué  \n",
       "ISM                 Système embarqué  \n",
       "ESAA                Elect et télécom  \n",
       "IT                  Elect et télécom  "
      ]
     },
     "execution_count": 29,
     "metadata": {},
     "output_type": "execute_result"
    }
   ],
   "source": [
    "df['Département'] = ['Techno pour info et de la com',\n",
    "'Techno pour info et de la com',\n",
    "'Techno pour info et de la com',\n",
    "'Techno pour info et de la com',\n",
    "'Techno pour info et de la com',\n",
    "'Génie électrique et énergie',\n",
    "'Génie électrique et énergie',\n",
    "'Génie électrique et énergie',\n",
    "'Génie électrique et énergie',\n",
    "'Système embarqué',\n",
    "'Système embarqué',\n",
    "'Système embarqué',\n",
    "'Système embarqué',\n",
    "'Elect et télécom',\n",
    "'Elect et télécom']\n",
    "df"
   ]
  },
  {
   "cell_type": "markdown",
   "metadata": {},
   "source": [
    "## On prépare la data frame en créant les séries qui vont la composer"
   ]
  },
  {
   "cell_type": "code",
   "execution_count": 71,
   "metadata": {
    "collapsed": false
   },
   "outputs": [],
   "source": [
    "prenom = pd.Series(['Aloïs','Alexandre','Ouardia','Younes'])"
   ]
  },
  {
   "cell_type": "code",
   "execution_count": 75,
   "metadata": {
    "collapsed": false
   },
   "outputs": [],
   "source": [
    "nom = pd.Series(['Chevalier','Stoclet','Bsni','Amrani'])"
   ]
  },
  {
   "cell_type": "code",
   "execution_count": 73,
   "metadata": {
    "collapsed": true
   },
   "outputs": [],
   "source": [
    "domping = pd.Series(['BDTN','IAIR','IAIR','IAIR'])"
   ]
  },
  {
   "cell_type": "markdown",
   "metadata": {},
   "source": [
    "## On créer la dataframe"
   ]
  },
  {
   "cell_type": "code",
   "execution_count": 76,
   "metadata": {
    "collapsed": false
   },
   "outputs": [
    {
     "data": {
      "text/html": [
       "<div>\n",
       "<table border=\"1\" class=\"dataframe\">\n",
       "  <thead>\n",
       "    <tr style=\"text-align: right;\">\n",
       "      <th></th>\n",
       "      <th>Dominante</th>\n",
       "      <th>Nom</th>\n",
       "      <th>Prénom</th>\n",
       "    </tr>\n",
       "  </thead>\n",
       "  <tbody>\n",
       "    <tr>\n",
       "      <th>0</th>\n",
       "      <td>BDTN</td>\n",
       "      <td>Chevalier</td>\n",
       "      <td>Aloïs</td>\n",
       "    </tr>\n",
       "    <tr>\n",
       "      <th>1</th>\n",
       "      <td>IAIR</td>\n",
       "      <td>Stoclet</td>\n",
       "      <td>Alexandre</td>\n",
       "    </tr>\n",
       "    <tr>\n",
       "      <th>2</th>\n",
       "      <td>IAIR</td>\n",
       "      <td>Bsni</td>\n",
       "      <td>Ouardia</td>\n",
       "    </tr>\n",
       "    <tr>\n",
       "      <th>3</th>\n",
       "      <td>IAIR</td>\n",
       "      <td>Amrani</td>\n",
       "      <td>Younes</td>\n",
       "    </tr>\n",
       "  </tbody>\n",
       "</table>\n",
       "</div>"
      ],
      "text/plain": [
       "  Dominante        Nom     Prénom\n",
       "0      BDTN  Chevalier      Aloïs\n",
       "1      IAIR    Stoclet  Alexandre\n",
       "2      IAIR       Bsni    Ouardia\n",
       "3      IAIR     Amrani     Younes"
      ]
     },
     "execution_count": 76,
     "metadata": {},
     "output_type": "execute_result"
    }
   ],
   "source": [
    "dfping = pd.DataFrame({'Prénom':prenom, 'Nom':nom,'Dominante':domping}) \n",
    "dfping"
   ]
  },
  {
   "cell_type": "markdown",
   "metadata": {},
   "source": [
    "## Calcul du nombre d'eleve du ping par dominante"
   ]
  },
  {
   "cell_type": "code",
   "execution_count": 83,
   "metadata": {
    "collapsed": false
   },
   "outputs": [
    {
     "name": "stdout",
     "output_type": "stream",
     "text": [
      "[0, 1, 3, 0, 0, 0, 0, 0, 0, 0, 0, 0, 0, 0, 0]\n"
     ]
    }
   ],
   "source": [
    "pourdom = []\n",
    "for dom in df.index:\n",
    "    pourdom.append(dfping[dfping.Dominante == dom].count().Dominante)\n",
    "print(pourdom)"
   ]
  },
  {
   "cell_type": "markdown",
   "metadata": {},
   "source": [
    "## Les eleves du ping par dominante"
   ]
  },
  {
   "cell_type": "code",
   "execution_count": 128,
   "metadata": {
    "collapsed": false
   },
   "outputs": [
    {
     "data": {
      "text/html": [
       "<div>\n",
       "<table border=\"1\" class=\"dataframe\">\n",
       "  <thead>\n",
       "    <tr style=\"text-align: right;\">\n",
       "      <th></th>\n",
       "      <th>Nom</th>\n",
       "      <th>Prénom</th>\n",
       "    </tr>\n",
       "    <tr>\n",
       "      <th>Dominante</th>\n",
       "      <th></th>\n",
       "      <th></th>\n",
       "    </tr>\n",
       "  </thead>\n",
       "  <tbody>\n",
       "    <tr>\n",
       "      <th>BDTN</th>\n",
       "      <td>1</td>\n",
       "      <td>1</td>\n",
       "    </tr>\n",
       "    <tr>\n",
       "      <th>IAIR</th>\n",
       "      <td>3</td>\n",
       "      <td>3</td>\n",
       "    </tr>\n",
       "  </tbody>\n",
       "</table>\n",
       "</div>"
      ],
      "text/plain": [
       "           Nom  Prénom\n",
       "Dominante             \n",
       "BDTN         1       1\n",
       "IAIR         3       3"
      ]
     },
     "execution_count": 128,
     "metadata": {},
     "output_type": "execute_result"
    }
   ],
   "source": [
    "dfping.groupby(['Dominante']).count()"
   ]
  },
  {
   "cell_type": "markdown",
   "metadata": {},
   "source": [
    "## Enregistrement en csv"
   ]
  },
  {
   "cell_type": "code",
   "execution_count": 130,
   "metadata": {
    "collapsed": false
   },
   "outputs": [
    {
     "data": {
      "text/plain": [
       "<bound method DataFrame.to_csv of            Nom  Prénom\n",
       "Dominante             \n",
       "BDTN         1       1\n",
       "IAIR         3       3>"
      ]
     },
     "execution_count": 130,
     "metadata": {},
     "output_type": "execute_result"
    }
   ],
   "source": [
    "dfping.groupby(['Dominante']).count().to_csv"
   ]
  }
 ],
 "metadata": {
  "anaconda-cloud": {},
  "kernelspec": {
   "display_name": "Python [default]",
   "language": "python",
   "name": "python3"
  },
  "language_info": {
   "codemirror_mode": {
    "name": "ipython",
    "version": 3
   },
   "file_extension": ".py",
   "mimetype": "text/x-python",
   "name": "python",
   "nbconvert_exporter": "python",
   "pygments_lexer": "ipython3",
   "version": "3.5.2"
  }
 },
 "nbformat": 4,
 "nbformat_minor": 1
}
